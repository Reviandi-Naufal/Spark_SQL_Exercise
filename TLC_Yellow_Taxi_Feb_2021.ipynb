{
 "cells": [
  {
   "cell_type": "code",
   "execution_count": 8,
   "metadata": {},
   "outputs": [],
   "source": [
    "import pyspark\n",
    "from pyspark.sql import SparkSession\n",
    "import pandas as pd"
   ]
  },
  {
   "attachments": {},
   "cell_type": "markdown",
   "metadata": {},
   "source": [
    "## <b>Try a couple of ways to download the data<b>"
   ]
  },
  {
   "attachments": {},
   "cell_type": "markdown",
   "metadata": {},
   "source": [
    "### A. Dowload the data from the link on browser and read it using pandas"
   ]
  },
  {
   "cell_type": "code",
   "execution_count": 4,
   "metadata": {},
   "outputs": [],
   "source": [
    "# Use this code to save parquet into csv\n",
    "df_fhvhv = pd.read_parquet('fhvhv_tripdata_2021-02.parquet')\n",
    "df_fhvhv.to_csv('fhvhv_tripdata_2021-02.parquet')"
   ]
  },
  {
   "attachments": {},
   "cell_type": "markdown",
   "metadata": {},
   "source": [
    "### B. Download using requst library"
   ]
  },
  {
   "cell_type": "code",
   "execution_count": null,
   "metadata": {},
   "outputs": [],
   "source": [
    "# imported the requests library\n",
    "import requests\n",
    "trip_url = \"https://d37ci6vzurychx.cloudfront.net/trip-data/fhvhv_tripdata_2021-02.parquet\"\n",
    "  \n",
    "# URL of the image to be downloaded is defined as image_url\n",
    "trip_data = requests.get(trip_url) # create HTTP response object\n",
    "with open(\"fhvhv_tripdata_2021-02.parquet\",'wb') as fhvhv_taxi_trip:\n",
    "  \n",
    "    # Saving received content as a png file in\n",
    "    # binary format\n",
    "  \n",
    "    # write the contents of the response (r.content)\n",
    "    # to a new file in binary mode.\n",
    "    fhvhv_taxi_trip.write(trip_data.content)"
   ]
  },
  {
   "attachments": {},
   "cell_type": "markdown",
   "metadata": {},
   "source": [
    "### C. Download using urlib.reqsuest library"
   ]
  },
  {
   "cell_type": "code",
   "execution_count": 37,
   "metadata": {},
   "outputs": [
    {
     "data": {
      "text/plain": [
       "('fhvhv_tripdata_2021-02.parquet', <http.client.HTTPMessage at 0x21f9c76c6a0>)"
      ]
     },
     "execution_count": 37,
     "metadata": {},
     "output_type": "execute_result"
    }
   ],
   "source": [
    "url = \"https://d37ci6vzurychx.cloudfront.net/trip-data/fhvhv_tripdata_2021-02.parquet\"\n",
    "filename = \"fhvhv_tripdata_2021-02.parquet\"\n",
    "\n",
    "urllib.request.urlretrieve(url, filename)"
   ]
  },
  {
   "cell_type": "code",
   "execution_count": 43,
   "metadata": {},
   "outputs": [],
   "source": [
    "df_fhvhv = pd.read_parquet('fhvhv_tripdata_2021-02.parquet')"
   ]
  },
  {
   "cell_type": "code",
   "execution_count": 44,
   "metadata": {},
   "outputs": [
    {
     "data": {
      "text/plain": [
       "(11613942, 24)"
      ]
     },
     "execution_count": 44,
     "metadata": {},
     "output_type": "execute_result"
    }
   ],
   "source": [
    "df_fhvhv.shape"
   ]
  },
  {
   "cell_type": "code",
   "execution_count": 45,
   "metadata": {},
   "outputs": [
    {
     "data": {
      "text/html": [
       "<div>\n",
       "<style scoped>\n",
       "    .dataframe tbody tr th:only-of-type {\n",
       "        vertical-align: middle;\n",
       "    }\n",
       "\n",
       "    .dataframe tbody tr th {\n",
       "        vertical-align: top;\n",
       "    }\n",
       "\n",
       "    .dataframe thead th {\n",
       "        text-align: right;\n",
       "    }\n",
       "</style>\n",
       "<table border=\"1\" class=\"dataframe\">\n",
       "  <thead>\n",
       "    <tr style=\"text-align: right;\">\n",
       "      <th></th>\n",
       "      <th>hvfhs_license_num</th>\n",
       "      <th>dispatching_base_num</th>\n",
       "      <th>originating_base_num</th>\n",
       "      <th>request_datetime</th>\n",
       "      <th>on_scene_datetime</th>\n",
       "      <th>pickup_datetime</th>\n",
       "      <th>dropoff_datetime</th>\n",
       "      <th>PULocationID</th>\n",
       "      <th>DOLocationID</th>\n",
       "      <th>trip_miles</th>\n",
       "      <th>...</th>\n",
       "      <th>sales_tax</th>\n",
       "      <th>congestion_surcharge</th>\n",
       "      <th>airport_fee</th>\n",
       "      <th>tips</th>\n",
       "      <th>driver_pay</th>\n",
       "      <th>shared_request_flag</th>\n",
       "      <th>shared_match_flag</th>\n",
       "      <th>access_a_ride_flag</th>\n",
       "      <th>wav_request_flag</th>\n",
       "      <th>wav_match_flag</th>\n",
       "    </tr>\n",
       "  </thead>\n",
       "  <tbody>\n",
       "    <tr>\n",
       "      <th>0</th>\n",
       "      <td>HV0003</td>\n",
       "      <td>B02764</td>\n",
       "      <td>B02764</td>\n",
       "      <td>2021-01-31 23:59:00</td>\n",
       "      <td>2021-02-01 00:10:19</td>\n",
       "      <td>2021-02-01 00:10:40</td>\n",
       "      <td>2021-02-01 00:21:09</td>\n",
       "      <td>35</td>\n",
       "      <td>39</td>\n",
       "      <td>2.060</td>\n",
       "      <td>...</td>\n",
       "      <td>1.52</td>\n",
       "      <td>0.00</td>\n",
       "      <td>NaN</td>\n",
       "      <td>0.00</td>\n",
       "      <td>9.79</td>\n",
       "      <td>N</td>\n",
       "      <td>N</td>\n",
       "      <td></td>\n",
       "      <td>N</td>\n",
       "      <td>N</td>\n",
       "    </tr>\n",
       "    <tr>\n",
       "      <th>1</th>\n",
       "      <td>HV0003</td>\n",
       "      <td>B02764</td>\n",
       "      <td>B02764</td>\n",
       "      <td>2021-02-01 00:13:35</td>\n",
       "      <td>2021-02-01 00:25:23</td>\n",
       "      <td>2021-02-01 00:27:23</td>\n",
       "      <td>2021-02-01 00:44:01</td>\n",
       "      <td>39</td>\n",
       "      <td>35</td>\n",
       "      <td>3.150</td>\n",
       "      <td>...</td>\n",
       "      <td>2.85</td>\n",
       "      <td>0.00</td>\n",
       "      <td>NaN</td>\n",
       "      <td>0.00</td>\n",
       "      <td>24.01</td>\n",
       "      <td>N</td>\n",
       "      <td>N</td>\n",
       "      <td></td>\n",
       "      <td>N</td>\n",
       "      <td>N</td>\n",
       "    </tr>\n",
       "    <tr>\n",
       "      <th>2</th>\n",
       "      <td>HV0005</td>\n",
       "      <td>B02510</td>\n",
       "      <td>None</td>\n",
       "      <td>2021-02-01 00:12:55</td>\n",
       "      <td>NaT</td>\n",
       "      <td>2021-02-01 00:28:38</td>\n",
       "      <td>2021-02-01 00:38:27</td>\n",
       "      <td>39</td>\n",
       "      <td>91</td>\n",
       "      <td>1.776</td>\n",
       "      <td>...</td>\n",
       "      <td>1.12</td>\n",
       "      <td>0.00</td>\n",
       "      <td>NaN</td>\n",
       "      <td>0.00</td>\n",
       "      <td>6.91</td>\n",
       "      <td>N</td>\n",
       "      <td>N</td>\n",
       "      <td>N</td>\n",
       "      <td>N</td>\n",
       "      <td>N</td>\n",
       "    </tr>\n",
       "    <tr>\n",
       "      <th>3</th>\n",
       "      <td>HV0005</td>\n",
       "      <td>B02510</td>\n",
       "      <td>None</td>\n",
       "      <td>2021-02-01 00:36:01</td>\n",
       "      <td>NaT</td>\n",
       "      <td>2021-02-01 00:43:37</td>\n",
       "      <td>2021-02-01 01:23:20</td>\n",
       "      <td>91</td>\n",
       "      <td>228</td>\n",
       "      <td>13.599</td>\n",
       "      <td>...</td>\n",
       "      <td>2.91</td>\n",
       "      <td>0.00</td>\n",
       "      <td>NaN</td>\n",
       "      <td>7.00</td>\n",
       "      <td>35.05</td>\n",
       "      <td>N</td>\n",
       "      <td>N</td>\n",
       "      <td>N</td>\n",
       "      <td>N</td>\n",
       "      <td>N</td>\n",
       "    </tr>\n",
       "    <tr>\n",
       "      <th>4</th>\n",
       "      <td>HV0003</td>\n",
       "      <td>B02872</td>\n",
       "      <td>B02872</td>\n",
       "      <td>2021-01-31 23:57:50</td>\n",
       "      <td>2021-02-01 00:08:25</td>\n",
       "      <td>2021-02-01 00:08:42</td>\n",
       "      <td>2021-02-01 00:17:57</td>\n",
       "      <td>126</td>\n",
       "      <td>250</td>\n",
       "      <td>2.620</td>\n",
       "      <td>...</td>\n",
       "      <td>1.38</td>\n",
       "      <td>0.00</td>\n",
       "      <td>NaN</td>\n",
       "      <td>0.00</td>\n",
       "      <td>8.53</td>\n",
       "      <td>N</td>\n",
       "      <td>N</td>\n",
       "      <td></td>\n",
       "      <td>N</td>\n",
       "      <td>N</td>\n",
       "    </tr>\n",
       "    <tr>\n",
       "      <th>...</th>\n",
       "      <td>...</td>\n",
       "      <td>...</td>\n",
       "      <td>...</td>\n",
       "      <td>...</td>\n",
       "      <td>...</td>\n",
       "      <td>...</td>\n",
       "      <td>...</td>\n",
       "      <td>...</td>\n",
       "      <td>...</td>\n",
       "      <td>...</td>\n",
       "      <td>...</td>\n",
       "      <td>...</td>\n",
       "      <td>...</td>\n",
       "      <td>...</td>\n",
       "      <td>...</td>\n",
       "      <td>...</td>\n",
       "      <td>...</td>\n",
       "      <td>...</td>\n",
       "      <td>...</td>\n",
       "      <td>...</td>\n",
       "      <td>...</td>\n",
       "    </tr>\n",
       "    <tr>\n",
       "      <th>995</th>\n",
       "      <td>HV0003</td>\n",
       "      <td>B02872</td>\n",
       "      <td>B02872</td>\n",
       "      <td>2021-02-01 00:29:41</td>\n",
       "      <td>2021-02-01 00:35:34</td>\n",
       "      <td>2021-02-01 00:35:49</td>\n",
       "      <td>2021-02-01 00:40:59</td>\n",
       "      <td>79</td>\n",
       "      <td>144</td>\n",
       "      <td>0.640</td>\n",
       "      <td>...</td>\n",
       "      <td>1.82</td>\n",
       "      <td>2.75</td>\n",
       "      <td>NaN</td>\n",
       "      <td>3.86</td>\n",
       "      <td>8.90</td>\n",
       "      <td>N</td>\n",
       "      <td>N</td>\n",
       "      <td></td>\n",
       "      <td>N</td>\n",
       "      <td>N</td>\n",
       "    </tr>\n",
       "    <tr>\n",
       "      <th>996</th>\n",
       "      <td>HV0005</td>\n",
       "      <td>B02510</td>\n",
       "      <td>None</td>\n",
       "      <td>2021-02-01 00:08:28</td>\n",
       "      <td>NaT</td>\n",
       "      <td>2021-02-01 00:16:35</td>\n",
       "      <td>2021-02-01 00:41:17</td>\n",
       "      <td>254</td>\n",
       "      <td>208</td>\n",
       "      <td>5.396</td>\n",
       "      <td>...</td>\n",
       "      <td>1.77</td>\n",
       "      <td>0.00</td>\n",
       "      <td>NaN</td>\n",
       "      <td>0.00</td>\n",
       "      <td>18.40</td>\n",
       "      <td>N</td>\n",
       "      <td>N</td>\n",
       "      <td>N</td>\n",
       "      <td>N</td>\n",
       "      <td>N</td>\n",
       "    </tr>\n",
       "    <tr>\n",
       "      <th>997</th>\n",
       "      <td>HV0005</td>\n",
       "      <td>B02510</td>\n",
       "      <td>None</td>\n",
       "      <td>2021-02-01 00:31:45</td>\n",
       "      <td>NaT</td>\n",
       "      <td>2021-02-01 00:42:49</td>\n",
       "      <td>2021-02-01 00:57:57</td>\n",
       "      <td>208</td>\n",
       "      <td>240</td>\n",
       "      <td>5.178</td>\n",
       "      <td>...</td>\n",
       "      <td>1.42</td>\n",
       "      <td>0.00</td>\n",
       "      <td>NaN</td>\n",
       "      <td>0.00</td>\n",
       "      <td>13.35</td>\n",
       "      <td>N</td>\n",
       "      <td>N</td>\n",
       "      <td>N</td>\n",
       "      <td>N</td>\n",
       "      <td>N</td>\n",
       "    </tr>\n",
       "    <tr>\n",
       "      <th>998</th>\n",
       "      <td>HV0003</td>\n",
       "      <td>B02682</td>\n",
       "      <td>B02682</td>\n",
       "      <td>2021-02-01 00:06:31</td>\n",
       "      <td>2021-02-01 00:22:14</td>\n",
       "      <td>2021-02-01 00:23:08</td>\n",
       "      <td>2021-02-01 00:41:46</td>\n",
       "      <td>165</td>\n",
       "      <td>188</td>\n",
       "      <td>3.320</td>\n",
       "      <td>...</td>\n",
       "      <td>1.36</td>\n",
       "      <td>0.00</td>\n",
       "      <td>NaN</td>\n",
       "      <td>0.00</td>\n",
       "      <td>15.97</td>\n",
       "      <td>N</td>\n",
       "      <td>N</td>\n",
       "      <td></td>\n",
       "      <td>N</td>\n",
       "      <td>N</td>\n",
       "    </tr>\n",
       "    <tr>\n",
       "      <th>999</th>\n",
       "      <td>HV0003</td>\n",
       "      <td>B02682</td>\n",
       "      <td>B02682</td>\n",
       "      <td>2021-02-01 00:35:57</td>\n",
       "      <td>2021-02-01 00:44:39</td>\n",
       "      <td>2021-02-01 00:46:25</td>\n",
       "      <td>2021-02-01 00:55:23</td>\n",
       "      <td>188</td>\n",
       "      <td>61</td>\n",
       "      <td>1.360</td>\n",
       "      <td>...</td>\n",
       "      <td>1.47</td>\n",
       "      <td>0.00</td>\n",
       "      <td>NaN</td>\n",
       "      <td>0.00</td>\n",
       "      <td>8.50</td>\n",
       "      <td>N</td>\n",
       "      <td>N</td>\n",
       "      <td></td>\n",
       "      <td>N</td>\n",
       "      <td>N</td>\n",
       "    </tr>\n",
       "  </tbody>\n",
       "</table>\n",
       "<p>1000 rows × 24 columns</p>\n",
       "</div>"
      ],
      "text/plain": [
       "    hvfhs_license_num dispatching_base_num originating_base_num  \\\n",
       "0              HV0003               B02764               B02764   \n",
       "1              HV0003               B02764               B02764   \n",
       "2              HV0005               B02510                 None   \n",
       "3              HV0005               B02510                 None   \n",
       "4              HV0003               B02872               B02872   \n",
       "..                ...                  ...                  ...   \n",
       "995            HV0003               B02872               B02872   \n",
       "996            HV0005               B02510                 None   \n",
       "997            HV0005               B02510                 None   \n",
       "998            HV0003               B02682               B02682   \n",
       "999            HV0003               B02682               B02682   \n",
       "\n",
       "       request_datetime   on_scene_datetime     pickup_datetime  \\\n",
       "0   2021-01-31 23:59:00 2021-02-01 00:10:19 2021-02-01 00:10:40   \n",
       "1   2021-02-01 00:13:35 2021-02-01 00:25:23 2021-02-01 00:27:23   \n",
       "2   2021-02-01 00:12:55                 NaT 2021-02-01 00:28:38   \n",
       "3   2021-02-01 00:36:01                 NaT 2021-02-01 00:43:37   \n",
       "4   2021-01-31 23:57:50 2021-02-01 00:08:25 2021-02-01 00:08:42   \n",
       "..                  ...                 ...                 ...   \n",
       "995 2021-02-01 00:29:41 2021-02-01 00:35:34 2021-02-01 00:35:49   \n",
       "996 2021-02-01 00:08:28                 NaT 2021-02-01 00:16:35   \n",
       "997 2021-02-01 00:31:45                 NaT 2021-02-01 00:42:49   \n",
       "998 2021-02-01 00:06:31 2021-02-01 00:22:14 2021-02-01 00:23:08   \n",
       "999 2021-02-01 00:35:57 2021-02-01 00:44:39 2021-02-01 00:46:25   \n",
       "\n",
       "       dropoff_datetime  PULocationID  DOLocationID  trip_miles  ...  \\\n",
       "0   2021-02-01 00:21:09            35            39       2.060  ...   \n",
       "1   2021-02-01 00:44:01            39            35       3.150  ...   \n",
       "2   2021-02-01 00:38:27            39            91       1.776  ...   \n",
       "3   2021-02-01 01:23:20            91           228      13.599  ...   \n",
       "4   2021-02-01 00:17:57           126           250       2.620  ...   \n",
       "..                  ...           ...           ...         ...  ...   \n",
       "995 2021-02-01 00:40:59            79           144       0.640  ...   \n",
       "996 2021-02-01 00:41:17           254           208       5.396  ...   \n",
       "997 2021-02-01 00:57:57           208           240       5.178  ...   \n",
       "998 2021-02-01 00:41:46           165           188       3.320  ...   \n",
       "999 2021-02-01 00:55:23           188            61       1.360  ...   \n",
       "\n",
       "     sales_tax  congestion_surcharge  airport_fee  tips  driver_pay  \\\n",
       "0         1.52                  0.00          NaN  0.00        9.79   \n",
       "1         2.85                  0.00          NaN  0.00       24.01   \n",
       "2         1.12                  0.00          NaN  0.00        6.91   \n",
       "3         2.91                  0.00          NaN  7.00       35.05   \n",
       "4         1.38                  0.00          NaN  0.00        8.53   \n",
       "..         ...                   ...          ...   ...         ...   \n",
       "995       1.82                  2.75          NaN  3.86        8.90   \n",
       "996       1.77                  0.00          NaN  0.00       18.40   \n",
       "997       1.42                  0.00          NaN  0.00       13.35   \n",
       "998       1.36                  0.00          NaN  0.00       15.97   \n",
       "999       1.47                  0.00          NaN  0.00        8.50   \n",
       "\n",
       "     shared_request_flag  shared_match_flag  access_a_ride_flag  \\\n",
       "0                      N                  N                       \n",
       "1                      N                  N                       \n",
       "2                      N                  N                   N   \n",
       "3                      N                  N                   N   \n",
       "4                      N                  N                       \n",
       "..                   ...                ...                 ...   \n",
       "995                    N                  N                       \n",
       "996                    N                  N                   N   \n",
       "997                    N                  N                   N   \n",
       "998                    N                  N                       \n",
       "999                    N                  N                       \n",
       "\n",
       "     wav_request_flag wav_match_flag  \n",
       "0                   N              N  \n",
       "1                   N              N  \n",
       "2                   N              N  \n",
       "3                   N              N  \n",
       "4                   N              N  \n",
       "..                ...            ...  \n",
       "995                 N              N  \n",
       "996                 N              N  \n",
       "997                 N              N  \n",
       "998                 N              N  \n",
       "999                 N              N  \n",
       "\n",
       "[1000 rows x 24 columns]"
      ]
     },
     "execution_count": 45,
     "metadata": {},
     "output_type": "execute_result"
    }
   ],
   "source": [
    "df_fhvhv.head(1000)"
   ]
  },
  {
   "cell_type": "code",
   "execution_count": 46,
   "metadata": {},
   "outputs": [
    {
     "data": {
      "text/plain": [
       "hvfhs_license_num              0\n",
       "dispatching_base_num           0\n",
       "originating_base_num     3319132\n",
       "request_datetime               1\n",
       "on_scene_datetime        3318817\n",
       "pickup_datetime                0\n",
       "dropoff_datetime               0\n",
       "PULocationID                   0\n",
       "DOLocationID                   0\n",
       "trip_miles                     0\n",
       "trip_time                      0\n",
       "base_passenger_fare            0\n",
       "tolls                          0\n",
       "bcf                            0\n",
       "sales_tax                      0\n",
       "congestion_surcharge           0\n",
       "airport_fee             11613181\n",
       "tips                           0\n",
       "driver_pay                     0\n",
       "shared_request_flag            0\n",
       "shared_match_flag              0\n",
       "access_a_ride_flag             0\n",
       "wav_request_flag               0\n",
       "wav_match_flag                 0\n",
       "dtype: int64"
      ]
     },
     "execution_count": 46,
     "metadata": {},
     "output_type": "execute_result"
    }
   ],
   "source": [
    "df_fhvhv.isnull().sum()"
   ]
  },
  {
   "cell_type": "code",
   "execution_count": 47,
   "metadata": {},
   "outputs": [
    {
     "data": {
      "text/plain": [
       "hvfhs_license_num               object\n",
       "dispatching_base_num            object\n",
       "originating_base_num            object\n",
       "request_datetime        datetime64[ns]\n",
       "on_scene_datetime       datetime64[ns]\n",
       "pickup_datetime         datetime64[ns]\n",
       "dropoff_datetime        datetime64[ns]\n",
       "PULocationID                     int64\n",
       "DOLocationID                     int64\n",
       "trip_miles                     float64\n",
       "trip_time                        int64\n",
       "base_passenger_fare            float64\n",
       "tolls                          float64\n",
       "bcf                            float64\n",
       "sales_tax                      float64\n",
       "congestion_surcharge           float64\n",
       "airport_fee                    float64\n",
       "tips                           float64\n",
       "driver_pay                     float64\n",
       "shared_request_flag             object\n",
       "shared_match_flag               object\n",
       "access_a_ride_flag              object\n",
       "wav_request_flag                object\n",
       "wav_match_flag                  object\n",
       "dtype: object"
      ]
     },
     "execution_count": 47,
     "metadata": {},
     "output_type": "execute_result"
    }
   ],
   "source": [
    "df_fhvhv.dtypes"
   ]
  },
  {
   "attachments": {},
   "cell_type": "markdown",
   "metadata": {},
   "source": [
    "# <b>Initate spark session<b>"
   ]
  },
  {
   "cell_type": "code",
   "execution_count": 70,
   "metadata": {},
   "outputs": [],
   "source": [
    "# Create spark session\n",
    "spark = SparkSession.builder \\\n",
    "    .master(\"local[*]\") \\\n",
    "    .appName('tlc_taxi_feb2021') \\\n",
    "    .getOrCreate()"
   ]
  },
  {
   "cell_type": "code",
   "execution_count": 71,
   "metadata": {},
   "outputs": [],
   "source": [
    "df_fhvhv_spark = spark.read.parquet(\"fhvhv_tripdata_2021-02.parquet\")"
   ]
  },
  {
   "cell_type": "code",
   "execution_count": 102,
   "metadata": {},
   "outputs": [
    {
     "name": "stdout",
     "output_type": "stream",
     "text": [
      "+-----------------+--------------------+--------------------+-------------------+-------------------+-------------------+-------------------+------------+------------+----------+---------+-------------------+-----+----+---------+--------------------+-----------+----+----------+-------------------+-----------------+------------------+----------------+--------------+\n",
      "|hvfhs_license_num|dispatching_base_num|originating_base_num|   request_datetime|  on_scene_datetime|    pickup_datetime|   dropoff_datetime|PULocationID|DOLocationID|trip_miles|trip_time|base_passenger_fare|tolls| bcf|sales_tax|congestion_surcharge|airport_fee|tips|driver_pay|shared_request_flag|shared_match_flag|access_a_ride_flag|wav_request_flag|wav_match_flag|\n",
      "+-----------------+--------------------+--------------------+-------------------+-------------------+-------------------+-------------------+------------+------------+----------+---------+-------------------+-----+----+---------+--------------------+-----------+----+----------+-------------------+-----------------+------------------+----------------+--------------+\n",
      "|           HV0003|              B02764|              B02764|2021-02-01 06:59:00|2021-02-01 07:10:19|2021-02-01 07:10:40|2021-02-01 07:21:09|          35|          39|      2.06|      629|              17.14|  0.0|0.51|     1.52|                 0.0|       null| 0.0|      9.79|                  N|                N|                  |               N|             N|\n",
      "|           HV0003|              B02764|              B02764|2021-02-01 07:13:35|2021-02-01 07:25:23|2021-02-01 07:27:23|2021-02-01 07:44:01|          39|          35|      3.15|      998|              32.11|  0.0|0.96|     2.85|                 0.0|       null| 0.0|     24.01|                  N|                N|                  |               N|             N|\n",
      "|           HV0005|              B02510|                null|2021-02-01 07:12:55|               null|2021-02-01 07:28:38|2021-02-01 07:38:27|          39|          91|     1.776|      589|              12.67|  0.0|0.38|     1.12|                 0.0|       null| 0.0|      6.91|                  N|                N|                 N|               N|             N|\n",
      "|           HV0005|              B02510|                null|2021-02-01 07:36:01|               null|2021-02-01 07:43:37|2021-02-01 08:23:20|          91|         228|    13.599|     2383|              37.82|  0.0|0.98|     2.91|                 0.0|       null| 7.0|     35.05|                  N|                N|                 N|               N|             N|\n",
      "|           HV0003|              B02872|              B02872|2021-02-01 06:57:50|2021-02-01 07:08:25|2021-02-01 07:08:42|2021-02-01 07:17:57|         126|         250|      2.62|      555|              15.56|  0.0|0.47|     1.38|                 0.0|       null| 0.0|      8.53|                  N|                N|                  |               N|             N|\n",
      "|           HV0003|              B02872|              B02872|2021-02-01 07:11:48|2021-02-01 07:24:25|2021-02-01 07:26:02|2021-02-01 07:42:51|         208|         243|      6.89|     1009|              19.98|  0.0| 0.6|     1.77|                 0.0|       null| 0.0|     16.05|                  N|                N|                  |               N|             N|\n",
      "|           HV0003|              B02872|              B02872|2021-02-01 07:39:45|2021-02-01 07:44:57|2021-02-01 07:45:50|2021-02-01 08:02:50|         243|         220|      4.26|     1020|              42.36|  0.0|1.27|     3.76|                 0.0|       null| 0.0|     25.42|                  N|                N|                  |               N|             N|\n",
      "|           HV0003|              B02764|              B02764|2021-02-01 06:55:59|2021-02-01 07:04:42|2021-02-01 07:06:42|2021-02-01 07:31:50|          49|          37|      2.95|     1508|              25.29|  0.0|0.81|      2.4|                 0.0|       null| 0.0|     22.29|                  N|                N|                  |               N|             N|\n",
      "|           HV0003|              B02764|              B02764|2021-02-01 07:27:54|2021-02-01 07:33:12|2021-02-01 07:34:34|2021-02-01 07:58:13|          37|          76|      3.41|     1419|               22.9|  0.0|0.69|     2.03|                 0.0|       null| 0.0|     23.77|                  N|                N|                  |               N|             N|\n",
      "|           HV0005|              B02510|                null|2021-02-01 06:56:04|               null|2021-02-01 07:03:43|2021-02-01 07:39:37|          80|         241|    15.998|     2154|              45.17| 4.88| 1.5|     4.44|                 0.0|       null| 0.0|      35.8|                  N|                N|                 N|               N|             N|\n",
      "|           HV0005|              B02510|                null|2021-02-01 07:46:24|               null|2021-02-01 07:55:36|2021-02-01 08:08:39|         174|          51|     2.354|      783|              14.61|  0.0|0.44|      1.3|                 0.0|       null| 0.0|      9.16|                  N|                N|                 N|               N|             N|\n",
      "|           HV0005|              B02510|                null|2021-02-01 06:59:26|               null|2021-02-01 07:06:13|2021-02-01 07:33:45|         235|         129|     9.643|     1652|               29.5| 6.02|1.07|     3.15|                 0.0|       null| 0.0|     27.83|                  N|                N|                 N|               N|             N|\n",
      "|           HV0005|              B02510|                null|2021-02-01 07:31:01|               null|2021-02-01 07:42:24|2021-02-01 08:11:31|         129|         169|    10.231|     1747|              38.71| 5.87|1.34|     3.96|                 0.0|       null| 0.0|     25.99|                  N|                N|                 N|               N|             N|\n",
      "|           HV0003|              B02764|              B02764|2021-02-01 06:58:59|2021-02-01 07:06:26|2021-02-01 07:07:05|2021-02-01 07:20:53|         226|          82|      2.69|      828|               15.1|  0.0|0.45|     1.34|                 0.0|       null| 0.0|       9.9|                  N|                N|                  |               N|             N|\n",
      "|           HV0003|              B02764|              B02764|2021-02-01 07:19:07|2021-02-01 07:27:38|2021-02-01 07:28:56|2021-02-01 07:33:59|          82|         129|       0.6|      303|              18.01|  0.0|0.54|      1.6|                 0.0|       null| 0.0|       7.9|                  N|                N|                  |               N|             N|\n",
      "|           HV0003|              B02764|              B02764|2021-02-01 07:25:36|2021-02-01 07:42:50|2021-02-01 07:44:53|2021-02-01 08:07:54|           7|          79|      8.37|     1381|              57.95| 6.12|1.92|     5.69|                2.75|       null| 0.0|     35.91|                  N|                N|                  |               N|             N|\n",
      "|           HV0003|              B02888|              B02888|2021-02-01 07:02:23|2021-02-01 07:15:55|2021-02-01 07:17:55|2021-02-01 07:34:41|           4|         170|      1.88|     1006|              29.78|  0.0|0.89|     2.64|                2.75|       null| 0.0|     23.75|                  N|                N|                  |               N|             Y|\n",
      "|           HV0003|              B02888|              B02888|2021-02-01 07:31:11|2021-02-01 07:37:32|2021-02-01 07:38:14|2021-02-01 07:59:20|         164|          42|      8.04|     1266|              54.61|  0.0|1.65|     4.87|                2.75|       null| 0.0|     48.97|                  N|                N|                  |               N|             Y|\n",
      "|           HV0004|              B02800|                null|2021-02-01 06:45:24|               null|2021-02-01 07:08:04|2021-02-01 07:24:41|         237|           4|      4.29|      997|              19.95|  0.0| 0.0|     1.42|                2.75|       null| 0.0|     12.87|                  N|                N|                 N|               N|             N|\n",
      "|           HV0004|              B02800|                null|2021-02-01 07:08:40|               null|2021-02-01 07:30:44|2021-02-01 07:41:26|         107|          45|      1.53|      642|              14.69|  0.0| 0.0|     1.04|                2.75|       null| 0.0|      7.06|                  N|                N|                 N|               N|             N|\n",
      "+-----------------+--------------------+--------------------+-------------------+-------------------+-------------------+-------------------+------------+------------+----------+---------+-------------------+-----+----+---------+--------------------+-----------+----+----------+-------------------+-----------------+------------------+----------------+--------------+\n",
      "only showing top 20 rows\n",
      "\n"
     ]
    }
   ],
   "source": [
    "df_fhvhv_spark.show()"
   ]
  },
  {
   "attachments": {},
   "cell_type": "markdown",
   "metadata": {},
   "source": [
    "# <b>The Task Question<b> "
   ]
  },
  {
   "attachments": {},
   "cell_type": "markdown",
   "metadata": {},
   "source": [
    "### 1. How many taxi trips were there on February 15?"
   ]
  },
  {
   "cell_type": "code",
   "execution_count": 72,
   "metadata": {},
   "outputs": [],
   "source": [
    "df_fhvhv_spark.createOrReplaceTempView(\"fhvhv_trips\")"
   ]
  },
  {
   "cell_type": "code",
   "execution_count": 99,
   "metadata": {},
   "outputs": [
    {
     "name": "stdout",
     "output_type": "stream",
     "text": [
      "+---------+\n",
      "|num_trips|\n",
      "+---------+\n",
      "|   424638|\n",
      "+---------+\n",
      "\n"
     ]
    }
   ],
   "source": [
    "spark.sql(\"\"\"\n",
    "SELECT \n",
    "    COUNT(*) AS num_trips\n",
    "FROM \n",
    "    fhvhv_trips\n",
    "WHERE\n",
    "    CAST(request_datetime AS date) = '2021-02-15'\n",
    "\"\"\").show()"
   ]
  },
  {
   "attachments": {},
   "cell_type": "markdown",
   "metadata": {},
   "source": [
    "### 2. Find the longest trip for each day ?"
   ]
  },
  {
   "cell_type": "code",
   "execution_count": 103,
   "metadata": {},
   "outputs": [
    {
     "name": "stdout",
     "output_type": "stream",
     "text": [
      "+----------+-----------------+\n",
      "|      date|max_trip_distance|\n",
      "+----------+-----------------+\n",
      "|2021-02-01|           212.43|\n",
      "|2021-02-02|           282.78|\n",
      "|2021-02-03|           184.26|\n",
      "|2021-02-04|           203.97|\n",
      "|2021-02-05|           245.35|\n",
      "|2021-02-06|           275.32|\n",
      "|2021-02-07|           216.36|\n",
      "|2021-02-08|            253.5|\n",
      "|2021-02-09|           480.73|\n",
      "|2021-02-10|            512.5|\n",
      "|2021-02-11|           240.66|\n",
      "|2021-02-12|           250.11|\n",
      "|2021-02-13|           226.24|\n",
      "|2021-02-14|           207.44|\n",
      "|2021-02-15|          173.582|\n",
      "|2021-02-16|          307.661|\n",
      "|2021-02-17|           324.19|\n",
      "|2021-02-18|           527.11|\n",
      "|2021-02-19|           224.33|\n",
      "|2021-02-20|           329.16|\n",
      "+----------+-----------------+\n",
      "only showing top 20 rows\n",
      "\n"
     ]
    }
   ],
   "source": [
    "# Add condition to pick non null value on request_datetime because there is 1 null value\n",
    "spark.sql(\"\"\"\n",
    "SELECT \n",
    "    CAST(request_datetime AS date) AS date, MAX(trip_miles) AS max_trip_distance\n",
    "FROM \n",
    "    fhvhv_trips\n",
    "WHERE \n",
    "    CAST(request_datetime AS date) IS NOT NULL\n",
    "GROUP BY \n",
    "    CAST(request_datetime AS date)\n",
    "ORDER BY \n",
    "    CAST(request_datetime AS date) ASC \n",
    "\"\"\").show()"
   ]
  },
  {
   "attachments": {},
   "cell_type": "markdown",
   "metadata": {},
   "source": [
    "### 3. Find Top 5 Most frequent `dispatching_base_num` ?"
   ]
  },
  {
   "cell_type": "code",
   "execution_count": 109,
   "metadata": {},
   "outputs": [
    {
     "name": "stdout",
     "output_type": "stream",
     "text": [
      "+--------------------+------------------+\n",
      "|dispatching_base_num|total_dispatch_num|\n",
      "+--------------------+------------------+\n",
      "|              B02510|           3233664|\n",
      "|              B02764|            965568|\n",
      "|              B02872|            882689|\n",
      "|              B02875|            685390|\n",
      "|              B02765|            559768|\n",
      "+--------------------+------------------+\n",
      "\n"
     ]
    }
   ],
   "source": [
    "spark.sql(\"\"\"\n",
    "SELECT \n",
    "    dispatching_base_num, count(*) AS total_dispatch_num\n",
    "FROM \n",
    "    fhvhv_trips\n",
    "GROUP BY \n",
    "    dispatching_base_num\n",
    "ORDER BY\n",
    "    total_dispatch_num DESC\n",
    "LIMIT 5\n",
    "\"\"\").show()"
   ]
  },
  {
   "attachments": {},
   "cell_type": "markdown",
   "metadata": {},
   "source": [
    "### 4. Find Top 5 Most common location pairs (PUlocationID and DOlocationID) ?"
   ]
  },
  {
   "cell_type": "code",
   "execution_count": 108,
   "metadata": {},
   "outputs": [
    {
     "name": "stdout",
     "output_type": "stream",
     "text": [
      "+------------+------------+---------------------+\n",
      "|PULocationID|DOlocationID|total_num_PO_DO_pairs|\n",
      "+------------+------------+---------------------+\n",
      "|          76|          76|                45041|\n",
      "|          26|          26|                37329|\n",
      "|          39|          39|                28026|\n",
      "|          61|          61|                25976|\n",
      "|          14|          14|                17934|\n",
      "+------------+------------+---------------------+\n",
      "\n"
     ]
    }
   ],
   "source": [
    "spark.sql(\"\"\"\n",
    "SELECT \n",
    "    PULocationID, DOlocationID, count(*) AS total_num_PO_DO_pairs\n",
    "FROM \n",
    "    fhvhv_trips\n",
    "GROUP BY \n",
    "    PUlocationID, \n",
    "    DOlocationID\n",
    "ORDER BY\n",
    "    total_num_PO_DO_pairs DESC\n",
    "LIMIT 5\n",
    "\"\"\").show()"
   ]
  }
 ],
 "metadata": {
  "kernelspec": {
   "display_name": "Python 3",
   "language": "python",
   "name": "python3"
  },
  "language_info": {
   "codemirror_mode": {
    "name": "ipython",
    "version": 3
   },
   "file_extension": ".py",
   "mimetype": "text/x-python",
   "name": "python",
   "nbconvert_exporter": "python",
   "pygments_lexer": "ipython3",
   "version": "3.10.7"
  },
  "orig_nbformat": 4
 },
 "nbformat": 4,
 "nbformat_minor": 2
}
